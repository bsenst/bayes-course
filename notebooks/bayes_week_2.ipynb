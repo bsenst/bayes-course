{
  "nbformat": 4,
  "nbformat_minor": 0,
  "metadata": {
    "colab": {
      "provenance": [],
      "authorship_tag": "ABX9TyNt2i345rmfYTLmGntteW1I",
      "include_colab_link": true
    },
    "kernelspec": {
      "name": "python3",
      "display_name": "Python 3"
    },
    "language_info": {
      "name": "python"
    }
  },
  "cells": [
    {
      "cell_type": "markdown",
      "metadata": {
        "id": "view-in-github",
        "colab_type": "text"
      },
      "source": [
        "<a href=\"https://colab.research.google.com/github/bsenst/bayes-course/blob/main/notebooks/bayes_week_2.ipynb\" target=\"_parent\"><img src=\"https://colab.research.google.com/assets/colab-badge.svg\" alt=\"Open In Colab\"/></a>"
      ]
    },
    {
      "cell_type": "code",
      "execution_count": null,
      "metadata": {
        "colab": {
          "base_uri": "https://localhost:8080/",
          "height": 265
        },
        "id": "2dP5-MD48urR",
        "outputId": "543a353e-e152-485c-e58d-7edf92ae913e"
      },
      "outputs": [
        {
          "output_type": "display_data",
          "data": {
            "text/plain": [
              "<Figure size 432x288 with 1 Axes>"
            ],
            "image/png": "[encoded data removed]"
          },
          "metadata": {
            "needs_background": "light"
          }
        }
      ],
      "source": [
        "# https://docs.scipy.org/doc/scipy/reference/generated/scipy.stats.binom.html\n",
        "\n",
        "import numpy as np\n",
        "from scipy.stats import binom\n",
        "import matplotlib.pyplot as plt\n",
        "\n",
        "fig, ax = plt.subplots(1, 1)\n",
        "\n",
        "n, p = 5, 0.4\n",
        "mean, var, skew, kurt = binom.stats(n, p, moments='mvsk')\n",
        "\n",
        "x = np.arange(binom.ppf(0.01, n, p),\n",
        "              binom.ppf(0.99, n, p))\n",
        "ax.plot(x, binom.pmf(x, n, p), 'bo', ms=8, label='binom pmf')\n",
        "ax.vlines(x, 0, binom.pmf(x, n, p), colors='b', lw=5, alpha=0.5)\n",
        "\n",
        "rv = binom(n, p)\n",
        "ax.vlines(x, 0, rv.pmf(x), colors='k', linestyles='-', lw=1,\n",
        "        label='frozen pmf')\n",
        "ax.legend(loc='best', frameon=False)\n",
        "plt.show()"
      ]
    },
    {
      "cell_type": "code",
      "source": [
        "x, n, p = 7, 10, [0.1, 0.5, 0.9]\n",
        "\n",
        "# print(binom.stats(n, p, moments='mvsk'))\n",
        "# print(binom.ppf(0.01, n, p))\n",
        "# print(binom.ppf(0.99, n, p))\n",
        "# print(binom.cdf(x, n, p)/3)\n",
        "# binom.rvs(n, p, size))\n",
        "\n",
        "# Integrating out a parameter: Concrete example\n",
        "print(sum(binom.pmf(x, n, p))/3)"
      ],
      "metadata": {
        "colab": {
          "base_uri": "https://localhost:8080/"
        },
        "id": "hoqkryy19AHB",
        "outputId": "34641879-5dbd-41cc-8e5e-f35f0a9e53ea"
      },
      "execution_count": null,
      "outputs": [
        {
          "output_type": "stream",
          "name": "stdout",
          "text": [
            "0.058197291999999984\n"
          ]
        }
      ]
    },
    {
      "cell_type": "code",
      "source": [
        "print(sum(binom.pmf(x, n, p))/3)"
      ],
      "metadata": {
        "id": "Cf4K-IRnNAHx"
      },
      "execution_count": null,
      "outputs": []
    },
    {
      "cell_type": "code",
      "source": [
        "# Example 1: Binomial Likelihood, Beta prior, Beta posterior\n",
        "binom.pmf(k=46, n=100, p=0.5)"
      ],
      "metadata": {
        "colab": {
          "base_uri": "https://localhost:8080/"
        },
        "id": "rHti-9LbAtlI",
        "outputId": "b1bb461b-a49b-4cfd-93b6-fb236a76a6ba"
      },
      "execution_count": null,
      "outputs": [
        {
          "output_type": "execute_result",
          "data": {
            "text/plain": [
              "0.057958398140297664"
            ]
          },
          "metadata": {},
          "execution_count": 21
        }
      ]
    },
    {
      "cell_type": "code",
      "source": [
        "# Example 2: Poisson Likelihood, Gamma prior, Gamma posterior\n",
        "import numpy as np\n",
        "s = np.random.poisson(5, 10000)"
      ],
      "metadata": {
        "id": "PJeRILltGzd9"
      },
      "execution_count": null,
      "outputs": []
    },
    {
      "cell_type": "code",
      "source": [
        "s = np.random.poisson(lam=(100., 500.), size=(100, 2))"
      ],
      "metadata": {
        "id": "Of8OY80lG7Vt"
      },
      "execution_count": null,
      "outputs": []
    },
    {
      "cell_type": "code",
      "source": [
        "import matplotlib.pyplot as plt\n",
        "count, bins, ignored = plt.hist(s, 14, density=True)\n",
        "plt.show()"
      ],
      "metadata": {
        "colab": {
          "base_uri": "https://localhost:8080/",
          "height": 265
        },
        "id": "RYm1F2NqG4iS",
        "outputId": "848f50d9-9202-4ebe-cb2d-e562ffa71077"
      },
      "execution_count": null,
      "outputs": [
        {
          "output_type": "display_data",
          "data": {
            "text/plain": [
              "<Figure size 432x288 with 1 Axes>"
            ],
            "image/png": "[encoded data removed]"
          },
          "metadata": {
            "needs_background": "light"
          }
        }
      ]
    },
    {
      "cell_type": "code",
      "source": [
        "np.random.poisson(3, 10)"
      ],
      "metadata": {
        "colab": {
          "base_uri": "https://localhost:8080/"
        },
        "id": "h6_EYIKkHBzg",
        "outputId": "7b5c4ff3-798c-4c31-b193-1d3b25b8cea8"
      },
      "execution_count": null,
      "outputs": [
        {
          "output_type": "execute_result",
          "data": {
            "text/plain": [
              "array([4, 1, 4, 7, 4, 6, 4, 2, 5, 7])"
            ]
          },
          "metadata": {},
          "execution_count": 28
        }
      ]
    },
    {
      "cell_type": "code",
      "source": [
        "# Example 2: Poisson Likelihood, Gamma prior, Gamma posterior\n",
        "import matplotlib.pyplot as plt\n",
        "import scipy.special as sps  \n",
        "\n",
        "shape, scale = 2., 2.  # mean=4, std=2*sqrt(2)\n",
        "s = np.random.gamma(shape, scale, 1000)\n",
        "count, bins, ignored = plt.hist(s, 50, density=True)\n",
        "y = bins**(shape-1)*(np.exp(-bins/scale) /  \n",
        "                     (sps.gamma(shape)*scale**shape))\n",
        "plt.plot(bins, y, linewidth=2, color='r')  \n",
        "plt.show()"
      ],
      "metadata": {
        "colab": {
          "base_uri": "https://localhost:8080/",
          "height": 265
        },
        "id": "2CYAoEv0HPBD",
        "outputId": "552a779b-6b2a-43d9-c554-d8746cc67364"
      },
      "execution_count": null,
      "outputs": [
        {
          "output_type": "display_data",
          "data": {
            "text/plain": [
              "<Figure size 432x288 with 1 Axes>"
            ],
            "image/png": "[encoded data removed]"
          },
          "metadata": {
            "needs_background": "light"
          }
        }
      ]
    },
    {
      "cell_type": "code",
      "source": [
        "[round(x, 2) for x in np.random.gamma(2, 2, 10)]"
      ],
      "metadata": {
        "colab": {
          "base_uri": "https://localhost:8080/"
        },
        "id": "1PwJmGihHXHY",
        "outputId": "b5f9520c-fa1c-4046-914b-ad559887a7c4"
      },
      "execution_count": null,
      "outputs": [
        {
          "output_type": "execute_result",
          "data": {
            "text/plain": [
              "[6.75, 4.22, 2.67, 1.45, 3.82, 1.53, 1.74, 2.78, 1.75, 0.78]"
            ]
          },
          "metadata": {},
          "execution_count": 39
        }
      ]
    }
  ]
}